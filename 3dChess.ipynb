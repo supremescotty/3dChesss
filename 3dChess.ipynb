{
  "nbformat": 4,
  "nbformat_minor": 0,
  "metadata": {
    "colab": {
      "provenance": [],
      "authorship_tag": "ABX9TyN2jnXi7yTu1J/JElbIhXhT",
      "include_colab_link": true
    },
    "kernelspec": {
      "name": "python3",
      "display_name": "Python 3"
    },
    "language_info": {
      "name": "python"
    }
  },
  "cells": [
    {
      "cell_type": "markdown",
      "metadata": {
        "id": "view-in-github",
        "colab_type": "text"
      },
      "source": [
        "<a href=\"https://colab.research.google.com/github/supremescotty/3dChesss/blob/main/3dChess.ipynb\" target=\"_parent\"><img src=\"https://colab.research.google.com/assets/colab-badge.svg\" alt=\"Open In Colab\"/></a>"
      ]
    },
    {
      "cell_type": "markdown",
      "source": [
        "#2D Chess: Pawns Only\n",
        "1. Define the game board and pieces:\n",
        "\n",
        "In 2D chess, you'll also need to define each type of chess piece and its movement rules, including how they move between dimensions or timelines.\n",
        "2.   Create the game logic:\n",
        "\n",
        "This includes handling player turns, checking if a move is valid, updating the board after a move, and checking if the game has ended.\n",
        "\n",
        "3. Create the user interface:\n",
        "\n",
        "This could be a simple text interface that prints out the board and asks the user for their moves, or it could be a graphical interface that allows the user to interact with the game visually.\n",
        "\n"
      ],
      "metadata": {
        "id": "1EU_k622EM0L"
      }
    },
    {
      "cell_type": "code",
      "execution_count": null,
      "metadata": {
        "colab": {
          "base_uri": "https://localhost:8080/"
        },
        "id": "jJFj3xx7C6n_",
        "outputId": "31d5c5fe-df1e-42d4-9e49-3828f181087e"
      },
      "outputs": [
        {
          "output_type": "stream",
          "name": "stdout",
          "text": [
            "                       \n",
            "bp bp bp bp bp bp bp bp\n",
            "                       \n",
            "                       \n",
            "                       \n",
            "                       \n",
            "wp wp wp wp wp wp wp wp\n",
            "                       \n"
          ]
        }
      ],
      "source": [
        "class Game:\n",
        "    def __init__(self):\n",
        "        self.board = self.create_board()\n",
        "        self.current_player = \"White\"\n",
        "\n",
        "    def create_board(self):\n",
        "        # 8x8 board with pawns\n",
        "        board = []\n",
        "        for i in range(8):\n",
        "            row = []\n",
        "            for j in range(8):\n",
        "                if i == 1:\n",
        "                    row.append('bp')  # black pawns\n",
        "                elif i == 6:\n",
        "                    row.append('wp')  # white pawns\n",
        "                else:\n",
        "                    row.append('  ')  # empty squares\n",
        "            board.append(row)\n",
        "        return board\n",
        "\n",
        "    def print_board(self):\n",
        "        for i in range(8):\n",
        "            print(' '.join(self.board[i]))\n",
        "\n",
        "    def get_move(self):\n",
        "        move = input(f\"{self.current_player}, enter your move (format: x1 y1 x2 y2): \")\n",
        "        x1, y1, x2, y2 = map(int, move.split())\n",
        "        return x1, y1, x2, y2\n",
        "\n",
        "    def check_move(self, x1, y1, x2, y2):\n",
        "        if self.board[x1][y1][:1] != self.current_player[0].lower():\n",
        "            print(\"Invalid move: the selected piece does not belong to you.\")\n",
        "            return False\n",
        "        if self.current_player == \"White\" and x2 != x1 - 1:\n",
        "            print(\"Invalid move: white pawns can only move forward.\")\n",
        "            return False\n",
        "        if self.current_player == \"Black\" and x2 != x1 + 1:\n",
        "            print(\"Invalid move: black pawns can only move forward.\")\n",
        "            return False\n",
        "        return True\n",
        "\n",
        "    def update_board(self, x1, y1, x2, y2):\n",
        "        self.board[x2][y2] = self.board[x1][y1]\n",
        "        self.board[x1][y1] = '  '\n",
        "\n",
        "    def change_player(self):\n",
        "        self.current_player = \"Black\" if self.current_player == \"White\" else \"White\"\n",
        "\n",
        "    def play_game(self):\n",
        "        # Main game loop\n",
        "        while True:\n",
        "            self.print_board()\n",
        "            x1, y1, x2, y2 = self.get_move()\n",
        "            if self.check_move(x1, y1, x2, y2):\n",
        "                self.update_board(x1, y1, x2, y2)\n",
        "                self.change_player()\n",
        "\n",
        "\n",
        "if __name__ == \"__main__\":\n",
        "    Game().play_game()\n"
      ]
    },
    {
      "cell_type": "markdown",
      "source": [
        "White moves a pawn forward: 6 0 5 0\n",
        "Black moves a pawn forward: 1 0 2 0\n",
        "White moves another pawn forward: 6 1 5 1\n",
        "Black moves another pawn forward: 1 1 2 1\n",
        "And so on..."
      ],
      "metadata": {
        "id": "VgaCuEsdD3_x"
      }
    },
    {
      "cell_type": "markdown",
      "source": [
        "#3D Chess Extension: Pawns Only\n",
        "\n",
        "Creating a 3D chess game involves extending the 2D game to include an additional dimension. For simplicity's sake, I'll create a 3D game with only pawns that can move forward in their respective planes.\n"
      ],
      "metadata": {
        "id": "apt9m3IFEEUc"
      }
    },
    {
      "cell_type": "code",
      "source": [
        "class Game:\n",
        "    def __init__(self):\n",
        "        self.board = self.create_board()\n",
        "        self.current_player = \"White\"\n",
        "\n",
        "    def create_board(self):\n",
        "        # Create 3 8x8 boards with pawns\n",
        "        boards = []\n",
        "        for b in range(3):\n",
        "            board = []\n",
        "            for i in range(8):\n",
        "                row = []\n",
        "                for j in range(8):\n",
        "                    if i == 1:\n",
        "                        row.append('bp')  # black pawns\n",
        "                    elif i == 6:\n",
        "                        row.append('wp')  # white pawns\n",
        "                    else:\n",
        "                        row.append('  ')  # empty squares\n",
        "                board.append(row)\n",
        "            boards.append(board)\n",
        "        return boards\n",
        "\n",
        "    def print_board(self):\n",
        "        for b in range(3):\n",
        "            print(f\"Board {b+1}\")\n",
        "            for i in range(8):\n",
        "                print(' '.join(self.board[b][i]))\n",
        "            print(\"\\n\")\n",
        "\n",
        "    def get_move(self):\n",
        "        move = input(f\"{self.current_player}, enter your move (format: b1 x1 y1 b2 x2 y2): \")\n",
        "        b1, x1, y1, b2, x2, y2 = map(int, move.split())\n",
        "        return b1-1, x1, y1, b2-1, x2, y2\n",
        "\n",
        "    def check_move(self, b1, x1, y1, b2, x2, y2):\n",
        "        if self.board[b1][x1][y1][:1] != self.current_player[0].lower():\n",
        "            print(\"Invalid move: the selected piece does not belong to you.\")\n",
        "            return False\n",
        "        if self.current_player == \"White\" and x2 != x1 - 1:\n",
        "            print(\"Invalid move: white pawns can only move forward.\")\n",
        "            return False\n",
        "        if self.current_player == \"Black\" and x2 != x1 + 1:\n",
        "            print(\"Invalid move: black pawns can only move forward.\")\n",
        "            return False\n",
        "        return True\n",
        "\n",
        "    def update_board(self, b1, x1, y1, b2, x2, y2):\n",
        "        self.board[b2][x2][y2] = self.board[b1][x1][y1]\n",
        "        self.board[b1][x1][y1] = '  '\n",
        "\n",
        "    def change_player(self):\n",
        "        self.current_player = \"Black\" if self.current_player == \"White\" else \"White\"\n",
        "\n",
        "    def play_game(self):\n",
        "        # Main game loop\n",
        "        while True:\n",
        "            self.print_board()\n",
        "            b1, x1, y1, b2, x2, y2 = self.get_move()\n",
        "            if self.check_move(b1, x1, y1, b2, x2, y2):\n",
        "                self.update_board(b1, x1, y1, b2, x2, y2)\n",
        "                self.change_player()\n",
        "\n",
        "\n",
        "if __name__ == \"__main__\":\n",
        "    Game().play_game()\n"
      ],
      "metadata": {
        "id": "BtZPZWjZDa4R"
      },
      "execution_count": null,
      "outputs": []
    },
    {
      "cell_type": "markdown",
      "source": [
        "White moves a pawn forward on Board 1: 1 6 0 1 5 0\n",
        "Black moves a pawn forward on Board 1: 1 1 0 1 2 0\n",
        "White moves a pawn forward on Board 2: 2 6 0 2 5 0\n",
        "Black moves a pawn forward on Board 2: 2 1 0 2 2 0\n",
        "White moves a pawn forward on Board 3: 3 6 0 3 5 0\n",
        "Black moves a pawn forward on Board 3: 3 1 0 3 2 0\n",
        "And so on..."
      ],
      "metadata": {
        "id": "HbOB6e7PD8nN"
      }
    }
  ]
}